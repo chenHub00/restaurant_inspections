{
 "cells": [
  {
   "cell_type": "markdown",
   "metadata": {},
   "source": [
    "# Data preparation and Exploration for Cycle Inspections\n",
    "\n",
    "Prepare data from [restaurant inspections](https://data.cityofnewyork.us/Health/DOHMH-New-York-City-Restaurant-Inspection-Results/xx67-kt59) Note: Exported as csv.\n",
    "\n",
    "Make some descriptives for the data set."
   ]
  },
  {
   "cell_type": "code",
   "execution_count": 1,
   "metadata": {
    "collapsed": true
   },
   "outputs": [],
   "source": [
    "%matplotlib inline\n",
    "import pandas as pd\n",
    "import numpy as np\n",
    "import matplotlib.pyplot as plt"
   ]
  },
  {
   "cell_type": "code",
   "execution_count": 2,
   "metadata": {},
   "outputs": [
    {
     "data": {
      "text/plain": [
       "30138"
      ]
     },
     "execution_count": 2,
     "metadata": {},
     "output_type": "execute_result"
    }
   ],
   "source": [
    "#same_inspection_cycle.to_csv('same_inspection_cycle.csv')\n",
    "same_inspection_cycle = pd.read_csv('same_inspection_cycle.csv', sep=',',engine='python')\n",
    "len(same_inspection_cycle)"
   ]
  },
  {
   "cell_type": "code",
   "execution_count": 3,
   "metadata": {},
   "outputs": [
    {
     "data": {
      "text/html": [
       "<div>\n",
       "<style>\n",
       "    .dataframe thead tr:only-child th {\n",
       "        text-align: right;\n",
       "    }\n",
       "\n",
       "    .dataframe thead th {\n",
       "        text-align: left;\n",
       "    }\n",
       "\n",
       "    .dataframe tbody tr th {\n",
       "        vertical-align: top;\n",
       "    }\n",
       "</style>\n",
       "<table border=\"1\" class=\"dataframe\">\n",
       "  <thead>\n",
       "    <tr style=\"text-align: right;\">\n",
       "      <th></th>\n",
       "      <th>Unnamed: 0</th>\n",
       "      <th>Unnamed: 0.1</th>\n",
       "      <th>CAMIS</th>\n",
       "      <th>date_x</th>\n",
       "      <th>BORO_x</th>\n",
       "      <th>year</th>\n",
       "      <th>02_x</th>\n",
       "      <th>03_x</th>\n",
       "      <th>04_x</th>\n",
       "      <th>05_x</th>\n",
       "      <th>...</th>\n",
       "      <th>05_y</th>\n",
       "      <th>06_y</th>\n",
       "      <th>07_y</th>\n",
       "      <th>08_y</th>\n",
       "      <th>09_y</th>\n",
       "      <th>10_y</th>\n",
       "      <th>22_y</th>\n",
       "      <th>date_init</th>\n",
       "      <th>date_reins</th>\n",
       "      <th>Difference</th>\n",
       "    </tr>\n",
       "  </thead>\n",
       "  <tbody>\n",
       "    <tr>\n",
       "      <th>0</th>\n",
       "      <td>1</td>\n",
       "      <td>3</td>\n",
       "      <td>30112340</td>\n",
       "      <td>2016-10-03</td>\n",
       "      <td>BROOKLYN</td>\n",
       "      <td>2016</td>\n",
       "      <td>0.0</td>\n",
       "      <td>0.0</td>\n",
       "      <td>1.0</td>\n",
       "      <td>0.0</td>\n",
       "      <td>...</td>\n",
       "      <td>0.0</td>\n",
       "      <td>0.0</td>\n",
       "      <td>0.0</td>\n",
       "      <td>1.0</td>\n",
       "      <td>0.0</td>\n",
       "      <td>0.0</td>\n",
       "      <td>0.0</td>\n",
       "      <td>2016-10-03</td>\n",
       "      <td>2016-10-27</td>\n",
       "      <td>24 days 00:00:00.000000000</td>\n",
       "    </tr>\n",
       "    <tr>\n",
       "      <th>1</th>\n",
       "      <td>2</td>\n",
       "      <td>4</td>\n",
       "      <td>30191841</td>\n",
       "      <td>2015-08-31</td>\n",
       "      <td>MANHATTAN</td>\n",
       "      <td>2015</td>\n",
       "      <td>0.0</td>\n",
       "      <td>0.0</td>\n",
       "      <td>1.0</td>\n",
       "      <td>0.0</td>\n",
       "      <td>...</td>\n",
       "      <td>0.0</td>\n",
       "      <td>1.0</td>\n",
       "      <td>0.0</td>\n",
       "      <td>0.0</td>\n",
       "      <td>0.0</td>\n",
       "      <td>1.0</td>\n",
       "      <td>0.0</td>\n",
       "      <td>2015-08-31</td>\n",
       "      <td>2015-09-21</td>\n",
       "      <td>21 days 00:00:00.000000000</td>\n",
       "    </tr>\n",
       "    <tr>\n",
       "      <th>2</th>\n",
       "      <td>3</td>\n",
       "      <td>5</td>\n",
       "      <td>40356151</td>\n",
       "      <td>2014-04-11</td>\n",
       "      <td>QUEENS</td>\n",
       "      <td>2014</td>\n",
       "      <td>1.0</td>\n",
       "      <td>0.0</td>\n",
       "      <td>2.0</td>\n",
       "      <td>1.0</td>\n",
       "      <td>...</td>\n",
       "      <td>0.0</td>\n",
       "      <td>2.0</td>\n",
       "      <td>0.0</td>\n",
       "      <td>0.0</td>\n",
       "      <td>0.0</td>\n",
       "      <td>0.0</td>\n",
       "      <td>0.0</td>\n",
       "      <td>2014-04-11</td>\n",
       "      <td>2014-05-02</td>\n",
       "      <td>21 days 00:00:00.000000000</td>\n",
       "    </tr>\n",
       "    <tr>\n",
       "      <th>3</th>\n",
       "      <td>5</td>\n",
       "      <td>8</td>\n",
       "      <td>40356151</td>\n",
       "      <td>2014-10-03</td>\n",
       "      <td>QUEENS</td>\n",
       "      <td>2014</td>\n",
       "      <td>0.0</td>\n",
       "      <td>0.0</td>\n",
       "      <td>2.0</td>\n",
       "      <td>0.0</td>\n",
       "      <td>...</td>\n",
       "      <td>0.0</td>\n",
       "      <td>1.0</td>\n",
       "      <td>0.0</td>\n",
       "      <td>1.0</td>\n",
       "      <td>0.0</td>\n",
       "      <td>0.0</td>\n",
       "      <td>0.0</td>\n",
       "      <td>2014-10-03</td>\n",
       "      <td>2014-11-15</td>\n",
       "      <td>43 days 00:00:00.000000000</td>\n",
       "    </tr>\n",
       "    <tr>\n",
       "      <th>4</th>\n",
       "      <td>6</td>\n",
       "      <td>9</td>\n",
       "      <td>40356151</td>\n",
       "      <td>2015-04-24</td>\n",
       "      <td>QUEENS</td>\n",
       "      <td>2015</td>\n",
       "      <td>0.0</td>\n",
       "      <td>0.0</td>\n",
       "      <td>1.0</td>\n",
       "      <td>0.0</td>\n",
       "      <td>...</td>\n",
       "      <td>0.0</td>\n",
       "      <td>0.0</td>\n",
       "      <td>0.0</td>\n",
       "      <td>0.0</td>\n",
       "      <td>0.0</td>\n",
       "      <td>1.0</td>\n",
       "      <td>0.0</td>\n",
       "      <td>2015-04-24</td>\n",
       "      <td>2015-05-29</td>\n",
       "      <td>35 days 00:00:00.000000000</td>\n",
       "    </tr>\n",
       "  </tbody>\n",
       "</table>\n",
       "<p>5 rows × 31 columns</p>\n",
       "</div>"
      ],
      "text/plain": [
       "   Unnamed: 0  Unnamed: 0.1     CAMIS      date_x     BORO_x  year  02_x  \\\n",
       "0           1             3  30112340  2016-10-03   BROOKLYN  2016   0.0   \n",
       "1           2             4  30191841  2015-08-31  MANHATTAN  2015   0.0   \n",
       "2           3             5  40356151  2014-04-11     QUEENS  2014   1.0   \n",
       "3           5             8  40356151  2014-10-03     QUEENS  2014   0.0   \n",
       "4           6             9  40356151  2015-04-24     QUEENS  2015   0.0   \n",
       "\n",
       "   03_x  04_x  05_x             ...              05_y  06_y  07_y  08_y  09_y  \\\n",
       "0   0.0   1.0   0.0             ...               0.0   0.0   0.0   1.0   0.0   \n",
       "1   0.0   1.0   0.0             ...               0.0   1.0   0.0   0.0   0.0   \n",
       "2   0.0   2.0   1.0             ...               0.0   2.0   0.0   0.0   0.0   \n",
       "3   0.0   2.0   0.0             ...               0.0   1.0   0.0   1.0   0.0   \n",
       "4   0.0   1.0   0.0             ...               0.0   0.0   0.0   0.0   0.0   \n",
       "\n",
       "   10_y 22_y   date_init  date_reins                  Difference  \n",
       "0   0.0  0.0  2016-10-03  2016-10-27  24 days 00:00:00.000000000  \n",
       "1   1.0  0.0  2015-08-31  2015-09-21  21 days 00:00:00.000000000  \n",
       "2   0.0  0.0  2014-04-11  2014-05-02  21 days 00:00:00.000000000  \n",
       "3   0.0  0.0  2014-10-03  2014-11-15  43 days 00:00:00.000000000  \n",
       "4   1.0  0.0  2015-04-24  2015-05-29  35 days 00:00:00.000000000  \n",
       "\n",
       "[5 rows x 31 columns]"
      ]
     },
     "execution_count": 3,
     "metadata": {},
     "output_type": "execute_result"
    }
   ],
   "source": [
    "same_inspection_cycle.head()"
   ]
  },
  {
   "cell_type": "markdown",
   "metadata": {
    "collapsed": true
   },
   "source": [
    "For each year, how each many violations are reported for each violation group?\n",
    "What violations are enclosed in each violation group? "
   ]
  },
  {
   "cell_type": "code",
   "execution_count": 7,
   "metadata": {},
   "outputs": [
    {
     "data": {
      "text/html": [
       "<div>\n",
       "<style>\n",
       "    .dataframe thead tr:only-child th {\n",
       "        text-align: right;\n",
       "    }\n",
       "\n",
       "    .dataframe thead th {\n",
       "        text-align: left;\n",
       "    }\n",
       "\n",
       "    .dataframe tbody tr th {\n",
       "        vertical-align: top;\n",
       "    }\n",
       "</style>\n",
       "<table border=\"1\" class=\"dataframe\">\n",
       "  <thead>\n",
       "    <tr style=\"text-align: right;\">\n",
       "      <th></th>\n",
       "      <th>Unnamed: 0</th>\n",
       "      <th>Unnamed: 0.1</th>\n",
       "      <th>CAMIS</th>\n",
       "      <th>02_x</th>\n",
       "      <th>03_x</th>\n",
       "      <th>04_x</th>\n",
       "      <th>05_x</th>\n",
       "      <th>06_x</th>\n",
       "      <th>07_x</th>\n",
       "      <th>08_x</th>\n",
       "      <th>...</th>\n",
       "      <th>02_y</th>\n",
       "      <th>03_y</th>\n",
       "      <th>04_y</th>\n",
       "      <th>05_y</th>\n",
       "      <th>06_y</th>\n",
       "      <th>07_y</th>\n",
       "      <th>08_y</th>\n",
       "      <th>09_y</th>\n",
       "      <th>10_y</th>\n",
       "      <th>22_y</th>\n",
       "    </tr>\n",
       "    <tr>\n",
       "      <th>year</th>\n",
       "      <th></th>\n",
       "      <th></th>\n",
       "      <th></th>\n",
       "      <th></th>\n",
       "      <th></th>\n",
       "      <th></th>\n",
       "      <th></th>\n",
       "      <th></th>\n",
       "      <th></th>\n",
       "      <th></th>\n",
       "      <th></th>\n",
       "      <th></th>\n",
       "      <th></th>\n",
       "      <th></th>\n",
       "      <th></th>\n",
       "      <th></th>\n",
       "      <th></th>\n",
       "      <th></th>\n",
       "      <th></th>\n",
       "      <th></th>\n",
       "      <th></th>\n",
       "    </tr>\n",
       "  </thead>\n",
       "  <tbody>\n",
       "    <tr>\n",
       "      <th>2014</th>\n",
       "      <td>143211613</td>\n",
       "      <td>204965079</td>\n",
       "      <td>342200325963</td>\n",
       "      <td>5612.0</td>\n",
       "      <td>78.0</td>\n",
       "      <td>8673.0</td>\n",
       "      <td>430.0</td>\n",
       "      <td>5802.0</td>\n",
       "      <td>8.0</td>\n",
       "      <td>4374.0</td>\n",
       "      <td>...</td>\n",
       "      <td>3161.0</td>\n",
       "      <td>33.0</td>\n",
       "      <td>4998.0</td>\n",
       "      <td>143.0</td>\n",
       "      <td>3515.0</td>\n",
       "      <td>2.0</td>\n",
       "      <td>2755.0</td>\n",
       "      <td>487.0</td>\n",
       "      <td>5515.0</td>\n",
       "      <td>2.0</td>\n",
       "    </tr>\n",
       "    <tr>\n",
       "      <th>2015</th>\n",
       "      <td>218848963</td>\n",
       "      <td>312872720</td>\n",
       "      <td>461521748014</td>\n",
       "      <td>6909.0</td>\n",
       "      <td>84.0</td>\n",
       "      <td>10785.0</td>\n",
       "      <td>589.0</td>\n",
       "      <td>7533.0</td>\n",
       "      <td>5.0</td>\n",
       "      <td>5371.0</td>\n",
       "      <td>...</td>\n",
       "      <td>3808.0</td>\n",
       "      <td>35.0</td>\n",
       "      <td>5915.0</td>\n",
       "      <td>158.0</td>\n",
       "      <td>5420.0</td>\n",
       "      <td>1.0</td>\n",
       "      <td>3303.0</td>\n",
       "      <td>660.0</td>\n",
       "      <td>7478.0</td>\n",
       "      <td>46.0</td>\n",
       "    </tr>\n",
       "    <tr>\n",
       "      <th>2016</th>\n",
       "      <td>190541431</td>\n",
       "      <td>271782581</td>\n",
       "      <td>357904957341</td>\n",
       "      <td>5083.0</td>\n",
       "      <td>77.0</td>\n",
       "      <td>8124.0</td>\n",
       "      <td>475.0</td>\n",
       "      <td>6145.0</td>\n",
       "      <td>2.0</td>\n",
       "      <td>4311.0</td>\n",
       "      <td>...</td>\n",
       "      <td>2708.0</td>\n",
       "      <td>26.0</td>\n",
       "      <td>4803.0</td>\n",
       "      <td>135.0</td>\n",
       "      <td>4612.0</td>\n",
       "      <td>2.0</td>\n",
       "      <td>2784.0</td>\n",
       "      <td>568.0</td>\n",
       "      <td>5371.0</td>\n",
       "      <td>29.0</td>\n",
       "    </tr>\n",
       "    <tr>\n",
       "      <th>2017</th>\n",
       "      <td>85590694</td>\n",
       "      <td>121841252</td>\n",
       "      <td>151392973417</td>\n",
       "      <td>2061.0</td>\n",
       "      <td>43.0</td>\n",
       "      <td>3229.0</td>\n",
       "      <td>224.0</td>\n",
       "      <td>2659.0</td>\n",
       "      <td>0.0</td>\n",
       "      <td>1887.0</td>\n",
       "      <td>...</td>\n",
       "      <td>1172.0</td>\n",
       "      <td>23.0</td>\n",
       "      <td>1581.0</td>\n",
       "      <td>77.0</td>\n",
       "      <td>1901.0</td>\n",
       "      <td>1.0</td>\n",
       "      <td>1040.0</td>\n",
       "      <td>247.0</td>\n",
       "      <td>2416.0</td>\n",
       "      <td>16.0</td>\n",
       "    </tr>\n",
       "  </tbody>\n",
       "</table>\n",
       "<p>4 rows × 23 columns</p>\n",
       "</div>"
      ],
      "text/plain": [
       "      Unnamed: 0  Unnamed: 0.1         CAMIS    02_x  03_x     04_x   05_x  \\\n",
       "year                                                                         \n",
       "2014   143211613     204965079  342200325963  5612.0  78.0   8673.0  430.0   \n",
       "2015   218848963     312872720  461521748014  6909.0  84.0  10785.0  589.0   \n",
       "2016   190541431     271782581  357904957341  5083.0  77.0   8124.0  475.0   \n",
       "2017    85590694     121841252  151392973417  2061.0  43.0   3229.0  224.0   \n",
       "\n",
       "        06_x  07_x    08_x  ...     02_y  03_y    04_y   05_y    06_y  07_y  \\\n",
       "year                        ...                                               \n",
       "2014  5802.0   8.0  4374.0  ...   3161.0  33.0  4998.0  143.0  3515.0   2.0   \n",
       "2015  7533.0   5.0  5371.0  ...   3808.0  35.0  5915.0  158.0  5420.0   1.0   \n",
       "2016  6145.0   2.0  4311.0  ...   2708.0  26.0  4803.0  135.0  4612.0   2.0   \n",
       "2017  2659.0   0.0  1887.0  ...   1172.0  23.0  1581.0   77.0  1901.0   1.0   \n",
       "\n",
       "        08_y   09_y    10_y  22_y  \n",
       "year                               \n",
       "2014  2755.0  487.0  5515.0   2.0  \n",
       "2015  3303.0  660.0  7478.0  46.0  \n",
       "2016  2784.0  568.0  5371.0  29.0  \n",
       "2017  1040.0  247.0  2416.0  16.0  \n",
       "\n",
       "[4 rows x 23 columns]"
      ]
     },
     "execution_count": 7,
     "metadata": {},
     "output_type": "execute_result"
    }
   ],
   "source": [
    "same_inspection_cycle.groupby('year').sum() \n",
    "#[same_inspection_cycle['year']==2014]"
   ]
  },
  {
   "cell_type": "code",
   "execution_count": null,
   "metadata": {
    "collapsed": true
   },
   "outputs": [],
   "source": []
  },
  {
   "cell_type": "code",
   "execution_count": null,
   "metadata": {
    "collapsed": true
   },
   "outputs": [],
   "source": []
  },
  {
   "cell_type": "code",
   "execution_count": null,
   "metadata": {
    "collapsed": true
   },
   "outputs": [],
   "source": []
  },
  {
   "cell_type": "code",
   "execution_count": null,
   "metadata": {
    "collapsed": true
   },
   "outputs": [],
   "source": []
  },
  {
   "cell_type": "code",
   "execution_count": null,
   "metadata": {
    "collapsed": true
   },
   "outputs": [],
   "source": []
  },
  {
   "cell_type": "code",
   "execution_count": null,
   "metadata": {
    "collapsed": true
   },
   "outputs": [],
   "source": []
  },
  {
   "cell_type": "code",
   "execution_count": null,
   "metadata": {
    "collapsed": true
   },
   "outputs": [],
   "source": []
  },
  {
   "cell_type": "code",
   "execution_count": null,
   "metadata": {
    "collapsed": true
   },
   "outputs": [],
   "source": []
  },
  {
   "cell_type": "code",
   "execution_count": null,
   "metadata": {
    "collapsed": true
   },
   "outputs": [],
   "source": []
  },
  {
   "cell_type": "code",
   "execution_count": null,
   "metadata": {
    "collapsed": true
   },
   "outputs": [],
   "source": []
  },
  {
   "cell_type": "code",
   "execution_count": null,
   "metadata": {
    "collapsed": true
   },
   "outputs": [],
   "source": []
  },
  {
   "cell_type": "code",
   "execution_count": null,
   "metadata": {
    "collapsed": true
   },
   "outputs": [],
   "source": []
  },
  {
   "cell_type": "code",
   "execution_count": null,
   "metadata": {
    "collapsed": true
   },
   "outputs": [],
   "source": []
  },
  {
   "cell_type": "code",
   "execution_count": null,
   "metadata": {
    "collapsed": true
   },
   "outputs": [],
   "source": []
  },
  {
   "cell_type": "code",
   "execution_count": null,
   "metadata": {
    "collapsed": true
   },
   "outputs": [],
   "source": []
  }
 ],
 "metadata": {
  "kernelspec": {
   "display_name": "Python 3",
   "language": "python",
   "name": "python3"
  },
  "language_info": {
   "codemirror_mode": {
    "name": "ipython",
    "version": 3
   },
   "file_extension": ".py",
   "mimetype": "text/x-python",
   "name": "python",
   "nbconvert_exporter": "python",
   "pygments_lexer": "ipython3",
   "version": "3.5.3"
  }
 },
 "nbformat": 4,
 "nbformat_minor": 2
}
